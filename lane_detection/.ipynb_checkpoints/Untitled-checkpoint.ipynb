{
 "cells": [
  {
   "cell_type": "code",
   "execution_count": 1,
   "id": "63741912",
   "metadata": {},
   "outputs": [],
   "source": [
    "import numpy as np\n",
    "import cv2\n",
    "import matplotlib.pyplot as plt\n",
    "import utils"
   ]
  },
  {
   "cell_type": "code",
   "execution_count": 3,
   "id": "a21e8b77",
   "metadata": {},
   "outputs": [
    {
     "ename": "TypeError",
     "evalue": "Argument 'delay' is required to be an integer",
     "output_type": "error",
     "traceback": [
      "\u001b[1;31m---------------------------------------------------------------------------\u001b[0m",
      "\u001b[1;31mTypeError\u001b[0m                                 Traceback (most recent call last)",
      "Input \u001b[1;32mIn [3]\u001b[0m, in \u001b[0;36m<cell line: 3>\u001b[1;34m()\u001b[0m\n\u001b[0;32m     12\u001b[0m img \u001b[38;5;241m=\u001b[39m cv2\u001b[38;5;241m.\u001b[39mflip(img, \u001b[38;5;241m0\u001b[39m)\n\u001b[0;32m     13\u001b[0m cv2\u001b[38;5;241m.\u001b[39mimshow(\u001b[38;5;124m'\u001b[39m\u001b[38;5;124mVid\u001b[39m\u001b[38;5;124m'\u001b[39m,img)\n\u001b[1;32m---> 14\u001b[0m \u001b[43mcv2\u001b[49m\u001b[38;5;241;43m.\u001b[39;49m\u001b[43mwaitKey\u001b[49m\u001b[43m(\u001b[49m\u001b[38;5;124;43m'\u001b[39;49m\u001b[38;5;124;43mq\u001b[39;49m\u001b[38;5;124;43m'\u001b[39;49m\u001b[43m)\u001b[49m\n",
      "\u001b[1;31mTypeError\u001b[0m: Argument 'delay' is required to be an integer"
     ]
    }
   ],
   "source": [
    "cap = cv2.VideoCapture(r\"D:\\MyFiles\\School\\Advanced Algorithms\\WOAxWOXRoboticCar\\lane_detection\\video.h264\")\n",
    "frameCounter = 0\n",
    "while True:\n",
    "\n",
    "    frameCounter +=1\n",
    "    #if cap.get(cv2.CAP_PROP_FRAME_COUNT) ==frameCounter:\n",
    "    #    cap.set(cv2.CAP_PROP_POS_FRAMES,0)\n",
    "    #    frameCounter=0\n",
    "\n",
    "    _, img = cap.read() # GET THE IMAGE\n",
    "    img = cv2.resize(img,(640,480)) # RESIZE\n",
    "    img = cv2.flip(img, 0)\n",
    "    cv2.imshow('Vid',img)\n",
    "    cv2.waitKey('q')\n",
    "cv2.destroyAllWindows()"
   ]
  },
  {
   "cell_type": "code",
   "execution_count": 24,
   "id": "4cca19a9",
   "metadata": {},
   "outputs": [],
   "source": [
    "def isGoal(img, threshold=5000):\n",
    "    hsv = cv2.cvtColor(img, cv2.COLOR_BGR2HSV)\n",
    "    lower_red = np.array([160,140,50]) \n",
    "    upper_red = np.array([180,255,255])\n",
    "    maskRed = cv2.inRange(hsv, lower_red, upper_red)\n",
    "\n",
    "    contours, hierarchy = cv2.findContours(maskRed, cv2.RETR_EXTERNAL, cv2.CHAIN_APPROX_NONE)\n",
    "    # Find the largest contour\n",
    "    largest_contour = max(contours, key=lambda x:cv2.contourArea(x))\n",
    "    print( cv2.contourArea(largest_contour))\n",
    "    if cv2.contourArea(largest_contour) > threshold:\n",
    "        return True\n",
    "    return False"
   ]
  },
  {
   "cell_type": "code",
   "execution_count": 25,
   "id": "11d5df77",
   "metadata": {},
   "outputs": [
    {
     "name": "stdout",
     "output_type": "stream",
     "text": [
      "8145.5\n"
     ]
    },
    {
     "data": {
      "text/plain": [
       "True"
      ]
     },
     "execution_count": 25,
     "metadata": {},
     "output_type": "execute_result"
    }
   ],
   "source": [
    "img = cv2.imread(r\"D:\\MyFiles\\School\\Advanced Algorithms\\Project\\maze\\Capture3.PNG\")\n",
    "isGoal(img)"
   ]
  },
  {
   "cell_type": "code",
   "execution_count": 8,
   "id": "32c77200",
   "metadata": {},
   "outputs": [
    {
     "data": {
      "text/plain": [
       "<matplotlib.image.AxesImage at 0x1f61990e440>"
      ]
     },
     "execution_count": 8,
     "metadata": {},
     "output_type": "execute_result"
    },
    {
     "data": {
      "image/png": "[encoded data removed]",
      "text/plain": [
       "<Figure size 432x288 with 1 Axes>"
      ]
     },
     "metadata": {
      "needs_background": "light"
     },
     "output_type": "display_data"
    }
   ],
   "source": [
    "plt.imshow(imgThreshHigh)"
   ]
  },
  {
   "cell_type": "code",
   "execution_count": 4,
   "id": "182bfb5e",
   "metadata": {},
   "outputs": [
    {
     "data": {
      "text/plain": [
       "<matplotlib.image.AxesImage at 0x1f49f3ae4a0>"
      ]
     },
     "execution_count": 4,
     "metadata": {},
     "output_type": "execute_result"
    },
    {
     "data": {
      "image/png": "[encoded data removed]",
      "text/plain": [
       "<Figure size 432x288 with 1 Axes>"
      ]
     },
     "metadata": {
      "needs_background": "light"
     },
     "output_type": "display_data"
    }
   ],
   "source": [
    "img = cv2.imread(r\"D:\\MyFiles\\School\\Advanced Algorithms\\WOAxWOXRoboticCar\\my_things\\Capture3.PNG\")\n",
    "imgHSV = cv2.cvtColor(img,cv2.COLOR_BGR2HSV)\n",
    "lowerBlack = np.array([60,0,0])\n",
    "upperBlack = np.array([255,255,255])\n",
    "maskBlack = cv2.inRange(imgHSV, lowerBlack,upperBlack)\n",
    "plt.imshow(maskBlack)"
   ]
  },
  {
   "cell_type": "code",
   "execution_count": null,
   "id": "ac975e0f",
   "metadata": {},
   "outputs": [],
   "source": []
  }
 ],
 "metadata": {
  "kernelspec": {
   "display_name": "general",
   "language": "python",
   "name": "general"
  },
  "language_info": {
   "codemirror_mode": {
    "name": "ipython",
    "version": 3
   },
   "file_extension": ".py",
   "mimetype": "text/x-python",
   "name": "python",
   "nbconvert_exporter": "python",
   "pygments_lexer": "ipython3",
   "version": "3.10.4"
  }
 },
 "nbformat": 4,
 "nbformat_minor": 5
}
